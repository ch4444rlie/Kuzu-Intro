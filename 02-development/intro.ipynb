{
 "cells": [
  {
   "cell_type": "code",
   "execution_count": 1,
   "metadata": {},
   "outputs": [
    {
     "name": "stdout",
     "output_type": "stream",
     "text": [
      "hello\n"
     ]
    }
   ],
   "source": [
    "print(\"hello\")"
   ]
  },
  {
   "cell_type": "code",
   "execution_count": 2,
   "metadata": {},
   "outputs": [
    {
     "data": {
      "text/html": [
       "<div>\n",
       "<style scoped>\n",
       "    .dataframe tbody tr th:only-of-type {\n",
       "        vertical-align: middle;\n",
       "    }\n",
       "\n",
       "    .dataframe tbody tr th {\n",
       "        vertical-align: top;\n",
       "    }\n",
       "\n",
       "    .dataframe thead th {\n",
       "        text-align: right;\n",
       "    }\n",
       "</style>\n",
       "<table border=\"1\" class=\"dataframe\">\n",
       "  <thead>\n",
       "    <tr style=\"text-align: right;\">\n",
       "      <th></th>\n",
       "      <th>id_number</th>\n",
       "      <th>department</th>\n",
       "      <th>color</th>\n",
       "      <th>role</th>\n",
       "    </tr>\n",
       "  </thead>\n",
       "  <tbody>\n",
       "    <tr>\n",
       "      <th>0</th>\n",
       "      <td>1000</td>\n",
       "      <td>hr</td>\n",
       "      <td>red</td>\n",
       "      <td>intern</td>\n",
       "    </tr>\n",
       "    <tr>\n",
       "      <th>1</th>\n",
       "      <td>1001</td>\n",
       "      <td>hr</td>\n",
       "      <td>green</td>\n",
       "      <td>junior</td>\n",
       "    </tr>\n",
       "    <tr>\n",
       "      <th>2</th>\n",
       "      <td>1002</td>\n",
       "      <td>it</td>\n",
       "      <td>yellow</td>\n",
       "      <td>senior</td>\n",
       "    </tr>\n",
       "    <tr>\n",
       "      <th>3</th>\n",
       "      <td>1003</td>\n",
       "      <td>media</td>\n",
       "      <td>orange</td>\n",
       "      <td>manager</td>\n",
       "    </tr>\n",
       "    <tr>\n",
       "      <th>4</th>\n",
       "      <td>1004</td>\n",
       "      <td>design</td>\n",
       "      <td>red</td>\n",
       "      <td>senior</td>\n",
       "    </tr>\n",
       "    <tr>\n",
       "      <th>5</th>\n",
       "      <td>1005</td>\n",
       "      <td>design</td>\n",
       "      <td>green</td>\n",
       "      <td>manager</td>\n",
       "    </tr>\n",
       "    <tr>\n",
       "      <th>6</th>\n",
       "      <td>1006</td>\n",
       "      <td>dev</td>\n",
       "      <td>yellow</td>\n",
       "      <td>junior</td>\n",
       "    </tr>\n",
       "    <tr>\n",
       "      <th>7</th>\n",
       "      <td>1007</td>\n",
       "      <td>dev</td>\n",
       "      <td>orange</td>\n",
       "      <td>senior</td>\n",
       "    </tr>\n",
       "    <tr>\n",
       "      <th>8</th>\n",
       "      <td>1008</td>\n",
       "      <td>dev</td>\n",
       "      <td>yellow</td>\n",
       "      <td>senior</td>\n",
       "    </tr>\n",
       "    <tr>\n",
       "      <th>9</th>\n",
       "      <td>1009</td>\n",
       "      <td>dev</td>\n",
       "      <td>red</td>\n",
       "      <td>manager</td>\n",
       "    </tr>\n",
       "  </tbody>\n",
       "</table>\n",
       "</div>"
      ],
      "text/plain": [
       "   id_number department   color     role\n",
       "0       1000         hr     red   intern\n",
       "1       1001         hr   green   junior\n",
       "2       1002         it  yellow   senior\n",
       "3       1003      media  orange  manager\n",
       "4       1004     design     red   senior\n",
       "5       1005     design   green  manager\n",
       "6       1006        dev  yellow   junior\n",
       "7       1007        dev  orange   senior\n",
       "8       1008        dev  yellow   senior\n",
       "9       1009        dev     red  manager"
      ]
     },
     "execution_count": 2,
     "metadata": {},
     "output_type": "execute_result"
    }
   ],
   "source": [
    "# Basics to Kuzu Graph databases\n",
    "# Our example dataframe: 4 Nodes (id_number, department, color, role)\n",
    "\n",
    "\n",
    "import pandas as pd\n",
    "\n",
    "id_number = [1000, 1001, 1002, 1003, 1004, 1005, 1006, 1007, 1008, 1009]\n",
    "\n",
    "department = ['hr', 'hr', 'it', 'media', 'design', 'design', 'dev', 'dev', 'dev', 'dev' ]\n",
    "\n",
    "color = ['red', 'green', 'yellow', 'orange', 'red', 'green', 'yellow', 'orange', 'yellow', 'red']\n",
    "\n",
    "role = ['intern', 'junior', 'senior', 'manager', 'senior', 'manager', 'junior', 'senior', 'senior', 'manager']\n",
    "\n",
    "\n",
    "\n",
    "dict = {'id_number':id_number, 'department':department, 'color':color, \"role\":role}\n",
    "\n",
    "\n",
    "\n",
    "#-----------------------------------\n",
    "\n",
    "our_data = pd.DataFrame(dict)\n",
    "\n",
    "our_data"
   ]
  },
  {
   "cell_type": "code",
   "execution_count": 3,
   "metadata": {},
   "outputs": [],
   "source": [
    "# Step 1\n",
    "# Start by initializing your Kuzu database\n",
    "# and create a connection for executing queries\n",
    "\n",
    "\n",
    "import kuzu\n",
    "import os\n",
    "import shutil\n",
    "\n",
    "\n",
    "# Kuzu requires a directory to store the database (db)\n",
    "db_path = os.path.join(\".\", \"db\", \"graph_db\")\n",
    "if os.path.exists(db_path):\n",
    "    shutil.rmtree(db_path)\n",
    "os.makedirs(db_path, exist_ok=True)\n",
    "\n",
    "db = kuzu.Database(db_path)\n",
    "conn = kuzu.Connection(db)\n",
    "\n"
   ]
  },
  {
   "cell_type": "code",
   "execution_count": 4,
   "metadata": {},
   "outputs": [
    {
     "data": {
      "text/plain": [
       "<kuzu.query_result.QueryResult at 0x1d772233950>"
      ]
     },
     "execution_count": 4,
     "metadata": {},
     "output_type": "execute_result"
    }
   ],
   "source": [
    "# Step 2\n",
    "# Create a node table\n",
    " \n",
    "# Follow Kuzu's syntax\n",
    "\n",
    "\n",
    "# Use conn.execute to run a Kuzu query\n",
    "# CREATE NODE TABLE is a command to create a node\n",
    "# NAME_OF_THE_NODE( PROPERTY and DATA TYPE, PRIMARY KEY(PROPERTY) )\n",
    "\n",
    "# This is the database schema. It outlines where content should be loaded\n",
    "\n",
    "conn.execute(\"CREATE NODE TABLE Employee(id INT64, PRIMARY KEY(id))\")\n",
    "conn.execute(\"CREATE NODE TABLE Department(name STRING, PRIMARY KEY(name))\")\n",
    "conn.execute(\"CREATE NODE TABLE Color(name STRING, PRIMARY KEY(name))\")\n",
    "conn.execute(\"CREATE NODE TABLE Role(name STRING, PRIMARY KEY(name))\")\n",
    "\n",
    "# Every Node table created must have at least one property. One property is the primary key\n",
    "# This ensures each Node is unique\n",
    "# The 'Employee' node could have multiple properties like full name, age, salary, etc"
   ]
  },
  {
   "cell_type": "code",
   "execution_count": 5,
   "metadata": {},
   "outputs": [
    {
     "data": {
      "text/plain": [
       "<kuzu.query_result.QueryResult at 0x1d772223790>"
      ]
     },
     "execution_count": 5,
     "metadata": {},
     "output_type": "execute_result"
    }
   ],
   "source": [
    "# Step 3\n",
    "# Define relationship tables. \n",
    "\n",
    "# Intuitively, 'Employee' connects to every node (FROM Employee TO others)\n",
    "    # Employee works in a department\n",
    "conn.execute(\"CREATE REL TABLE WORKS_IN(FROM Employee TO Department)\")\n",
    "    #Employees have a role in a company\n",
    "conn.execute(\"CREATE REL TABLE HAS_ROLE(FROM Employee TO Role)\")\n",
    "    # Employee has turnover risk (color)\n",
    "conn.execute(\"CREATE REL TABLE LEAVING_COLOR(FROM Employee TO Color)\")\n"
   ]
  },
  {
   "cell_type": "code",
   "execution_count": 6,
   "metadata": {},
   "outputs": [],
   "source": [
    "# Steps 2 and 3 establish an outline for the Kuzu Database to follow"
   ]
  },
  {
   "cell_type": "code",
   "execution_count": 7,
   "metadata": {},
   "outputs": [],
   "source": [
    "# Step 4\n",
    "# Load data using MERGE\n",
    "# Without this step, our database won't have any content\n",
    "\n",
    "for department in our_data['department'].unique():\n",
    "    conn.execute(f\"MERGE (d:Department {{name: '{department}'}})\")\n",
    "for color in our_data['color'].unique():\n",
    "    conn.execute(f\"MERGE (c:Color {{name: '{color}'}})\")\n",
    "for role in our_data['role'].unique():\n",
    "    conn.execute(f\"MERGE (r:Role {{name: '{role}'}})\")\n",
    "for _, row in our_data.iterrows():\n",
    "    conn.execute(f\"\"\"\n",
    "        MERGE (e:Employee {{id: {row['id_number']}}})\n",
    "        MERGE (d:Department {{name: '{row['department']}'}})\n",
    "        MERGE (c:Color {{name: '{row['color']}'}})\n",
    "        MERGE (r:Role {{name: '{row['role']}'}})\n",
    "        MERGE (e)-[:WORKS_IN]->(d)\n",
    "        MERGE (e)-[:HAS_ROLE]->(r)\n",
    "        MERGE (e)-[:LEAVING_COLOR]->(c)\n",
    "    \"\"\")"
   ]
  },
  {
   "cell_type": "code",
   "execution_count": 8,
   "metadata": {},
   "outputs": [
    {
     "name": "stdout",
     "output_type": "stream",
     "text": [
      " Employee1  Employee2 Shared_Role  Dept1  Dept2\n",
      "      1003       1005     manager  media design\n",
      "      1002       1004      senior     it design\n",
      "      1003       1009     manager  media    dev\n",
      "      1005       1009     manager design    dev\n",
      "      1002       1008      senior     it    dev\n",
      "      1004       1008      senior design    dev\n",
      "      1002       1007      senior     it    dev\n",
      "      1004       1007      senior design    dev\n",
      "      1001       1006      junior     hr    dev\n"
     ]
    },
    {
     "data": {
      "application/vnd.jupyter.widget-view+json": {
       "model_id": "d3fbff8c300448fbbad472dbf6938af0",
       "version_major": 2,
       "version_minor": 0
      },
      "text/plain": [
       "GraphWidget(layout=Layout(height='730px', width='100%'))"
      ]
     },
     "metadata": {},
     "output_type": "display_data"
    }
   ],
   "source": [
    "# Step 5\n",
    "# Query Interconnections and Visualize with yFiles\n",
    "from yfiles_jupyter_graphs import GraphWidget\n",
    "\n",
    "# Query interconnections (employees sharing roles across departments)\n",
    "results = conn.execute(\"\"\"\n",
    "    MATCH (e1:Employee)-[:HAS_ROLE]->(r:Role)<-[:HAS_ROLE]-(e2:Employee),\n",
    "          (e1)-[:WORKS_IN]->(d1:Department),\n",
    "          (e2)-[:WORKS_IN]->(d2:Department)\n",
    "    WHERE d1.name <> d2.name AND e1.id < e2.id\n",
    "    RETURN e1.id, e2.id, r.name, d1.name, d2.name\n",
    "    LIMIT 10\n",
    "\"\"\")\n",
    "interconnections = []\n",
    "while results.has_next():\n",
    "    row = results.get_next()\n",
    "    interconnections.append({\n",
    "        \"Employee1\": row[0],\n",
    "        \"Employee2\": row[1],\n",
    "        \"Shared_Role\": row[2],\n",
    "        \"Dept1\": row[3],\n",
    "        \"Dept2\": row[4]\n",
    "    })\n",
    "interconnections_df = pd.DataFrame(interconnections)\n",
    "if not interconnections_df.empty:\n",
    "    print(interconnections_df.to_string(index=False))\n",
    "\n",
    "# Query all nodes and relationships for visualization\n",
    "employee_nodes = conn.execute(\"MATCH (e:Employee) RETURN e.id\").get_as_arrow().to_pandas()\n",
    "department_nodes = conn.execute(\"MATCH (d:Department) RETURN d.name\").get_as_arrow().to_pandas()\n",
    "color_nodes = conn.execute(\"MATCH (c:Color) RETURN c.name\").get_as_arrow().to_pandas()\n",
    "role_nodes = conn.execute(\"MATCH (r:Role) RETURN r.name\").get_as_arrow().to_pandas()\n",
    "works_in_rels = conn.execute(\"MATCH (e:Employee)-[:WORKS_IN]->(d:Department) RETURN e.id, d.name\").get_as_arrow().to_pandas()\n",
    "has_role_rels = conn.execute(\"MATCH (e:Employee)-[:HAS_ROLE]->(r:Role) RETURN e.id, r.name\").get_as_arrow().to_pandas()\n",
    "leaving_color_rels = conn.execute(\"MATCH (e:Employee)-[:LEAVING_COLOR]->(c:Color) RETURN e.id, c.name\").get_as_arrow().to_pandas()\n",
    "\n",
    "# Prepare nodes for yFiles\n",
    "nodes = []\n",
    "node_ids = {}\n",
    "index = 0\n",
    "# Add Employee nodes\n",
    "for _, row in employee_nodes.iterrows():\n",
    "    node_ids[f\"Employee:{row['e.id']}\"] = index\n",
    "    nodes.append({\"id\": index, \"properties\": {\"label\": f\"Employee {row['e.id']}\", \"type\": \"Employee\"}})\n",
    "    index += 1\n",
    "# Add Department nodes\n",
    "for _, row in department_nodes.iterrows():\n",
    "    node_ids[f\"Department:{row['d.name']}\"] = index\n",
    "    nodes.append({\"id\": index, \"properties\": {\"label\": row['d.name'], \"type\": \"Department\"}})\n",
    "    index += 1\n",
    "# Add Color nodes\n",
    "for _, row in color_nodes.iterrows():\n",
    "    node_ids[f\"Color:{row['c.name']}\"] = index\n",
    "    nodes.append({\"id\": index, \"properties\": {\"label\": row['c.name'], \"type\": \"Color\"}})\n",
    "    index += 1\n",
    "# Add Role nodes\n",
    "for _, row in role_nodes.iterrows():\n",
    "    node_ids[f\"Role:{row['r.name']}\"] = index\n",
    "    nodes.append({\"id\": index, \"properties\": {\"label\": row['r.name'], \"type\": \"Role\"}})\n",
    "    index += 1\n",
    "\n",
    "# Prepare edges for yFiles\n",
    "edges = []\n",
    "for _, row in works_in_rels.iterrows():\n",
    "    edges.append({\"start\": node_ids[f\"Employee:{row['e.id']}\"], \"end\": node_ids[f\"Department:{row['d.name']}\"], \"properties\": {\"label\": \"WORKS_IN\"}})\n",
    "for _, row in has_role_rels.iterrows():\n",
    "    edges.append({\"start\": node_ids[f\"Employee:{row['e.id']}\"], \"end\": node_ids[f\"Role:{row['r.name']}\"], \"properties\": {\"label\": \"HAS_ROLE\"}})\n",
    "for _, row in leaving_color_rels.iterrows():\n",
    "    edges.append({\"start\": node_ids[f\"Employee:{row['e.id']}\"], \"end\": node_ids[f\"Color:{row['c.name']}\"], \"properties\": {\"label\": \"LEAVING_COLOR\"}})\n",
    "\n",
    "# Create and display graph\n",
    "w = GraphWidget()\n",
    "w.nodes = nodes\n",
    "w.edges = edges\n",
    "w.node_styles = {\n",
    "    \"Employee\": {\"color\": \"#3498db\", \"shape\": \"ellipse\"},\n",
    "    \"Department\": {\"color\": \"#2ecc71\", \"shape\": \"rectangle\"},\n",
    "    \"Color\": {\"color\": \"#e74c3c\", \"shape\": \"triangle\"},\n",
    "    \"Role\": {\"color\": \"#f1c40f\", \"shape\": \"hexagon\"}\n",
    "}\n",
    "w.set_graph_layout(\"organic\")\n",
    "w.show()  # Use w.save_to_html(\"graph.html\") if not in Jupyter"
   ]
  },
  {
   "cell_type": "code",
   "execution_count": null,
   "metadata": {},
   "outputs": [],
   "source": []
  },
  {
   "cell_type": "code",
   "execution_count": 18,
   "metadata": {},
   "outputs": [],
   "source": []
  },
  {
   "cell_type": "code",
   "execution_count": null,
   "metadata": {},
   "outputs": [],
   "source": []
  }
 ],
 "metadata": {
  "kernelspec": {
   "display_name": ".venv",
   "language": "python",
   "name": "python3"
  },
  "language_info": {
   "codemirror_mode": {
    "name": "ipython",
    "version": 3
   },
   "file_extension": ".py",
   "mimetype": "text/x-python",
   "name": "python",
   "nbconvert_exporter": "python",
   "pygments_lexer": "ipython3",
   "version": "3.13.0"
  }
 },
 "nbformat": 4,
 "nbformat_minor": 2
}
