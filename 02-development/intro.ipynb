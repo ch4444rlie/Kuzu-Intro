{
 "cells": [
  {
   "cell_type": "markdown",
   "metadata": {},
   "source": [
    "# __Kuzu__ __Graph__ __Database__ __Basics__ <br>\n",
    "and some head cannon to bring things together\n",
    "<br>\n",
    "___________________________________________________________________________________"
   ]
  },
  {
   "cell_type": "markdown",
   "metadata": {},
   "source": [
    "Today, we are Kuzu Graph Database analysts and we are making a graph database related to employee information for a small company.\n",
    "<br>\n",
    "The small company is represented in the dataframe below.\n",
    "<br>\n",
    "<br>\n",
    "Here's a brief explanation for what each column means.\n",
    "<br>\n",
    "__id_number__: Employee's unique identifier <br>\n",
    "__department__: The department an employee belongs to <br>\n",
    "__color__: An color scale indicating turnover likelihood\n",
    "<br> - Green means they aren't planning to leave \n",
    "<br> - Red means they plan on leaving the company<br>\n",
    "__role__: Position at the company"
   ]
  },
  {
   "cell_type": "code",
   "execution_count": 1,
   "metadata": {},
   "outputs": [
    {
     "data": {
      "text/html": [
       "<div>\n",
       "<style scoped>\n",
       "    .dataframe tbody tr th:only-of-type {\n",
       "        vertical-align: middle;\n",
       "    }\n",
       "\n",
       "    .dataframe tbody tr th {\n",
       "        vertical-align: top;\n",
       "    }\n",
       "\n",
       "    .dataframe thead th {\n",
       "        text-align: right;\n",
       "    }\n",
       "</style>\n",
       "<table border=\"1\" class=\"dataframe\">\n",
       "  <thead>\n",
       "    <tr style=\"text-align: right;\">\n",
       "      <th></th>\n",
       "      <th>id_number</th>\n",
       "      <th>department</th>\n",
       "      <th>color</th>\n",
       "      <th>role</th>\n",
       "    </tr>\n",
       "  </thead>\n",
       "  <tbody>\n",
       "    <tr>\n",
       "      <th>0</th>\n",
       "      <td>1000</td>\n",
       "      <td>hr</td>\n",
       "      <td>red</td>\n",
       "      <td>intern</td>\n",
       "    </tr>\n",
       "    <tr>\n",
       "      <th>1</th>\n",
       "      <td>1001</td>\n",
       "      <td>hr</td>\n",
       "      <td>green</td>\n",
       "      <td>junior</td>\n",
       "    </tr>\n",
       "    <tr>\n",
       "      <th>2</th>\n",
       "      <td>1002</td>\n",
       "      <td>it</td>\n",
       "      <td>yellow</td>\n",
       "      <td>senior</td>\n",
       "    </tr>\n",
       "    <tr>\n",
       "      <th>3</th>\n",
       "      <td>1003</td>\n",
       "      <td>media</td>\n",
       "      <td>orange</td>\n",
       "      <td>manager</td>\n",
       "    </tr>\n",
       "    <tr>\n",
       "      <th>4</th>\n",
       "      <td>1004</td>\n",
       "      <td>design</td>\n",
       "      <td>red</td>\n",
       "      <td>senior</td>\n",
       "    </tr>\n",
       "    <tr>\n",
       "      <th>5</th>\n",
       "      <td>1005</td>\n",
       "      <td>design</td>\n",
       "      <td>green</td>\n",
       "      <td>manager</td>\n",
       "    </tr>\n",
       "    <tr>\n",
       "      <th>6</th>\n",
       "      <td>1006</td>\n",
       "      <td>dev</td>\n",
       "      <td>yellow</td>\n",
       "      <td>junior</td>\n",
       "    </tr>\n",
       "    <tr>\n",
       "      <th>7</th>\n",
       "      <td>1007</td>\n",
       "      <td>dev</td>\n",
       "      <td>orange</td>\n",
       "      <td>senior</td>\n",
       "    </tr>\n",
       "    <tr>\n",
       "      <th>8</th>\n",
       "      <td>1008</td>\n",
       "      <td>dev</td>\n",
       "      <td>yellow</td>\n",
       "      <td>senior</td>\n",
       "    </tr>\n",
       "    <tr>\n",
       "      <th>9</th>\n",
       "      <td>1009</td>\n",
       "      <td>dev</td>\n",
       "      <td>red</td>\n",
       "      <td>manager</td>\n",
       "    </tr>\n",
       "  </tbody>\n",
       "</table>\n",
       "</div>"
      ],
      "text/plain": [
       "   id_number department   color     role\n",
       "0       1000         hr     red   intern\n",
       "1       1001         hr   green   junior\n",
       "2       1002         it  yellow   senior\n",
       "3       1003      media  orange  manager\n",
       "4       1004     design     red   senior\n",
       "5       1005     design   green  manager\n",
       "6       1006        dev  yellow   junior\n",
       "7       1007        dev  orange   senior\n",
       "8       1008        dev  yellow   senior\n",
       "9       1009        dev     red  manager"
      ]
     },
     "execution_count": 1,
     "metadata": {},
     "output_type": "execute_result"
    }
   ],
   "source": [
    "import pandas as pd\n",
    "\n",
    "id_number = [1000, 1001, 1002, 1003, 1004, 1005, 1006, 1007, 1008, 1009]\n",
    "\n",
    "department = ['hr', 'hr', 'it', 'media', 'design', 'design', 'dev', 'dev', 'dev', 'dev' ]\n",
    "\n",
    "color = ['red', 'green', 'yellow', 'orange', 'red', 'green', 'yellow', 'orange', 'yellow', 'red']\n",
    "\n",
    "role = ['intern', 'junior', 'senior', 'manager', 'senior', 'manager', 'junior', 'senior', 'senior', 'manager']\n",
    "\n",
    "\n",
    "\n",
    "dict = {'id_number':id_number, 'department':department, 'color':color, \"role\":role}\n",
    "\n",
    "\n",
    "our_data = pd.DataFrame(dict)\n",
    "\n",
    "our_data"
   ]
  },
  {
   "cell_type": "markdown",
   "metadata": {},
   "source": [
    "# Step 1: Initialize your Kuzu database and create a connection for executing queries"
   ]
  },
  {
   "cell_type": "code",
   "execution_count": 2,
   "metadata": {},
   "outputs": [],
   "source": [
    "import kuzu\n",
    "import os\n",
    "import shutil\n",
    "\n",
    "# Kuzu requires a directory to store the database (db)\n",
    "db_path = os.path.join(\".\", \"db\", \"graph_db\")\n",
    "if os.path.exists(db_path):\n",
    "    shutil.rmtree(db_path)\n",
    "os.makedirs(db_path, exist_ok=True)\n",
    "\n",
    "db = kuzu.Database(db_path) # Tells Kuzu where to store the Database\n",
    "conn = kuzu.Connection(db) # Creates the connection in your files"
   ]
  },
  {
   "cell_type": "markdown",
   "metadata": {},
   "source": [
    "Tell Kuzu where to store the Database: __db = kuzu.Database(db_path)__  <br>\n",
    "Create the connection in your files: __conn = kuzu.Connection(db)__ \n",
    "\n",
    "_____________________________________________________________________________________"
   ]
  },
  {
   "cell_type": "markdown",
   "metadata": {},
   "source": [
    "# Step 2: Create a node table\n",
    "\n",
    "Follow Kuzu's syntax. <br><br>\n",
    "Use \"conn.execute\" to run a Kuzu query.<br>\n",
    "\"conn\" is your kuzu connection.<br>\n",
    "\".execute\" is the method to send a Cypher command.<br><br>\n",
    "CREATE NODE TABLE is a command to create a node table.\n",
    "<br>\n",
    "You can follow this format:<br>\n",
    "NAME_OF_THE_NODE( PROPERTY and DATA TYPE, PRIMARY KEY(PROPERTY) )"
   ]
  },
  {
   "cell_type": "code",
   "execution_count": 3,
   "metadata": {},
   "outputs": [
    {
     "data": {
      "text/plain": [
       "<kuzu.query_result.QueryResult at 0x26347193950>"
      ]
     },
     "execution_count": 3,
     "metadata": {},
     "output_type": "execute_result"
    }
   ],
   "source": [
    "# This is the database schema. It outlines where content should be loaded.\n",
    "\n",
    "conn.execute(\"CREATE NODE TABLE Employee(id INT64, PRIMARY KEY(id))\")\n",
    "conn.execute(\"CREATE NODE TABLE Department(name STRING, PRIMARY KEY(name))\")\n",
    "conn.execute(\"CREATE NODE TABLE Color(name STRING, PRIMARY KEY(name))\")\n",
    "conn.execute(\"CREATE NODE TABLE Role(name STRING, PRIMARY KEY(name))\")\n"
   ]
  },
  {
   "cell_type": "markdown",
   "metadata": {},
   "source": [
    "\n",
    "Every Node table created must have at least one property. One of the properties will be the primary key.\n",
    "<br>This ensures each Node is unique.\n",
    "<br>The 'Employee' node could have multiple properties like full name, age, salary, etc.\n",
    "<br>Add additional properties by putting commas between each new addition.\n",
    "<br>\n",
    "<br>\n",
    "At this point, I like to think we now have a bunch of bones for a skeleton. We know what pieces we're working with but we don't know how they are connected\n",
    "________________________________________________________________________________________________________________________________________________________________________"
   ]
  },
  {
   "cell_type": "markdown",
   "metadata": {},
   "source": [
    "# Step 3: Define relationship tables.\n",
    "In our example, 'Employee' connects to every other node (FROM Employee TO others) <br>\n",
    "Let's use CREATE REL TABLE, a command to create a relationship table"
   ]
  },
  {
   "cell_type": "code",
   "execution_count": 4,
   "metadata": {},
   "outputs": [
    {
     "data": {
      "text/plain": [
       "<kuzu.query_result.QueryResult at 0x2632eee18c0>"
      ]
     },
     "execution_count": 4,
     "metadata": {},
     "output_type": "execute_result"
    }
   ],
   "source": [
    "# Employee works in a department\n",
    "conn.execute(\"CREATE REL TABLE WORKS_IN(FROM Employee TO Department)\")\n",
    "\n",
    "#Employees have a role in a company\n",
    "conn.execute(\"CREATE REL TABLE HAS_ROLE(FROM Employee TO Role)\")\n",
    "\n",
    "# Employee has a turnover color\n",
    "conn.execute(\"CREATE REL TABLE LEAVING_COLOR(FROM Employee TO Color)\")\n"
   ]
  },
  {
   "cell_type": "markdown",
   "metadata": {},
   "source": [
    "With Steps 2 and 3 complete, we have established an outline for the Kuzu Database to follow.\n",
    "<br>\n",
    "<br>\n",
    "Now we know how the bones of our skeleton are connected, giving us an idea of the big picture\n",
    "____________________________________________________________________________________________________________________________________________________\n"
   ]
  },
  {
   "cell_type": "markdown",
   "metadata": {},
   "source": [
    "# Step 4: Load data into the Kùzu database \n",
    "This step populates the database with the content from our DataFrame.\n",
    "<br>\n",
    "Without this step, the database schema exists but contains no data.\n",
    "<br>\n",
    "<br>\n",
    "Let's use the MERGE command.\n",
    "<br>\n",
    "MERGE is used to create nodes and relationships, ensuring no duplicates."
   ]
  },
  {
   "cell_type": "code",
   "execution_count": 5,
   "metadata": {},
   "outputs": [],
   "source": [
    "# Loop through unique column values in the DataFrame to create nodes\n",
    "\n",
    "\n",
    "# department\n",
    "for department in our_data['department'].unique():\n",
    "    conn.execute(f\"MERGE (d:Department {{name: '{department}'}})\")\n",
    "\n",
    "\n",
    "# color\n",
    "for color in our_data['color'].unique():\n",
    "    conn.execute(f\"MERGE (c:Color {{name: '{color}'}})\")\n",
    "\n",
    "\n",
    "# role\n",
    "for role in our_data['role'].unique():\n",
    "    conn.execute(f\"MERGE (r:Role {{name: '{role}'}})\")\n",
    "\n",
    "\n",
    "\n",
    "# Load Employee nodes and their relationships\n",
    "# Iterate through each row in the DataFrame to create Employee nodes \n",
    "# Connect them to their respective Department, Color, and Role nodes\n",
    "for _, row in our_data.iterrows():\n",
    "    conn.execute(f\"\"\"\n",
    "        MERGE (e:Employee {{id: {row['id_number']}}})\n",
    "        MERGE (d:Department {{name: '{row['department']}'}})\n",
    "        MERGE (c:Color {{name: '{row['color']}'}})\n",
    "        MERGE (r:Role {{name: '{row['role']}'}})\n",
    "        MERGE (e)-[:WORKS_IN]->(d)\n",
    "        MERGE (e)-[:HAS_ROLE]->(r)\n",
    "        MERGE (e)-[:LEAVING_COLOR]->(c)\n",
    "    \"\"\")\n",
    "    \n"
   ]
  },
  {
   "cell_type": "markdown",
   "metadata": {},
   "source": [
    "Each employee is now linked to their department, role, and turnover risk color.\n",
    "<br><br>\n",
    "Our skeleton now has flesh but not yet ready for a closer inspection.\n",
    "_______________________________________________________________________________________________________________________________________________________"
   ]
  },
  {
   "cell_type": "markdown",
   "metadata": {},
   "source": [
    "# Step 5 Visualize the Kùzu database using yFiles\n",
    "This step retrieves all nodes and relationships from the database and creates a graph visualization showing employees, departments, roles, and turnover risk colors.\n",
    " <br><br>\n",
    "The visualization includes all connections (WORKS_IN, HAS_ROLE, LEAVING_COLOR) we defined in the schema.\n",
    "<br>\n",
    "<br>\n",
    "We will us MATCH to query all connections."
   ]
  },
  {
   "cell_type": "code",
   "execution_count": 6,
   "metadata": {},
   "outputs": [],
   "source": [
    "# Step 5.1: Retrieve all nodes and relationships for visualization\n",
    "# Query all Employee, Department, Color, and Role nodes\n",
    "# Also query all relationships (WORKS_IN, HAS_ROLE, LEAVING_COLOR)\n",
    "# Results are converted to pandas DataFrames for easier processing\n",
    "from yfiles_jupyter_graphs import GraphWidget\n",
    "\n",
    "employee_nodes = conn.execute(\"MATCH (e:Employee) RETURN e.id\").get_as_arrow().to_pandas()\n",
    "department_nodes = conn.execute(\"MATCH (d:Department) RETURN d.name\").get_as_arrow().to_pandas()\n",
    "color_nodes = conn.execute(\"MATCH (c:Color) RETURN c.name\").get_as_arrow().to_pandas()\n",
    "role_nodes = conn.execute(\"MATCH (r:Role) RETURN r.name\").get_as_arrow().to_pandas()\n",
    "\n",
    "works_in_rels = conn.execute(\"MATCH (e:Employee)-[:WORKS_IN]->(d:Department) RETURN e.id, d.name\").get_as_arrow().to_pandas()\n",
    "has_role_rels = conn.execute(\"MATCH (e:Employee)-[:HAS_ROLE]->(r:Role) RETURN e.id, r.name\").get_as_arrow().to_pandas()\n",
    "leaving_color_rels = conn.execute(\"MATCH (e:Employee)-[:LEAVING_COLOR]->(c:Color) RETURN e.id, c.name\").get_as_arrow().to_pandas()\n"
   ]
  },
  {
   "cell_type": "code",
   "execution_count": null,
   "metadata": {},
   "outputs": [],
   "source": [
    "# Step 5.2: Prepare nodes for yFiles visualization\n",
    "# Create a list of nodes with unique IDs and properties for visualization\n",
    "# Each node is assigned a unique index and labeled by its type and value\n",
    "nodes = []\n",
    "node_ids = {}\n",
    "index = 0\n",
    "# Add Employee nodes\n",
    "for _, row in employee_nodes.iterrows():\n",
    "    node_ids[f\"Employee:{row['e.id']}\"] = index\n",
    "    nodes.append({\"id\": index, \"properties\": {\"label\": f\"Employee {row['e.id']}\", \"type\": \"Employee\"}})\n",
    "    index += 1\n",
    "# Add Department nodes\n",
    "for _, row in department_nodes.iterrows():\n",
    "    node_ids[f\"Department:{row['d.name']}\"] = index\n",
    "    nodes.append({\"id\": index, \"properties\": {\"label\": row['d.name'], \"type\": \"Department\"}})\n",
    "    index += 1\n",
    "# Add Color nodes\n",
    "for _, row in color_nodes.iterrows():\n",
    "    node_ids[f\"Color:{row['c.name']}\"] = index\n",
    "    nodes.append({\"id\": index, \"properties\": {\"label\": row['c.name'], \"type\": \"Color\"}})\n",
    "    index += 1\n",
    "# Add Role nodes\n",
    "for _, row in role_nodes.iterrows():\n",
    "    node_ids[f\"Role:{row['r.name']}\"] = index\n",
    "    nodes.append({\"id\": index, \"properties\": {\"label\": row['r.name'], \"type\": \"Role\"}})\n",
    "    index += 1\n",
    "    \n",
    "# Step 5.3: Prepare edges for yFiles visualization\n",
    "# Create a list of edges representing relationships between nodes\n",
    "# Each edge connects a start node to an end node, labeled by the relationship type\n",
    "edges = []\n",
    "for _, row in works_in_rels.iterrows():\n",
    "    edges.append({\"start\": node_ids[f\"Employee:{row['e.id']}\"], \"end\": node_ids[f\"Department:{row['d.name']}\"], \"properties\": {\"label\": \"WORKS_IN\"}})\n",
    "for _, row in has_role_rels.iterrows():\n",
    "    edges.append({\"start\": node_ids[f\"Employee:{row['e.id']}\"], \"end\": node_ids[f\"Role:{row['r.name']}\"], \"properties\": {\"label\": \"HAS_ROLE\"}})\n",
    "for _, row in leaving_color_rels.iterrows():\n",
    "    edges.append({\"start\": node_ids[f\"Employee:{row['e.id']}\"], \"end\": node_ids[f\"Color:{row['c.name']}\"], \"properties\": {\"label\": \"LEAVING_COLOR\"}})"
   ]
  },
  {
   "cell_type": "markdown",
   "metadata": {},
   "source": [
    "Essentially, we have gone through each row in each unique node and relationship to store the connections in two lists, nodes and edges.<br>\n",
    "Now we apply those lists to the GraphWidget to visualize the graph."
   ]
  },
  {
   "cell_type": "code",
   "execution_count": 8,
   "metadata": {},
   "outputs": [
    {
     "data": {
      "application/vnd.jupyter.widget-view+json": {
       "model_id": "08b9fd24cba349c8900a75b53ed533ce",
       "version_major": 2,
       "version_minor": 0
      },
      "text/plain": [
       "GraphWidget(layout=Layout(height='730px', width='100%'))"
      ]
     },
     "metadata": {},
     "output_type": "display_data"
    }
   ],
   "source": [
    "# Step 5.4: Create and display the graph with yFiles\n",
    "# Initialize GraphWidget\n",
    "# Assign nodes and edges to the widget\n",
    "\n",
    "w = GraphWidget()\n",
    "w.nodes = nodes\n",
    "w.edges = edges\n",
    "\n",
    "\n",
    "# Customize node styles (color and shape) for each node type to make the graph clear\n",
    "# I can't change my shapes and colors :( but if you want to try, you can edit the styles below\n",
    "w.node_styles = {\n",
    "    \"Employee\": {\"color\": \"#3498db\", \"shape\": \"ellipse\"},\n",
    "    \"Department\": {\"color\": \"#2ecc71\", \"shape\": \"rectangle\"},\n",
    "    \"Color\": {\"color\": \"#e74c3c\", \"shape\": \"triangle\"},\n",
    "    \"Role\": {\"color\": \"#f1c40f\", \"shape\": \"hexagon\"}\n",
    "}\n",
    "# I like to set the graph layout to 'organic' for a clean visualization\n",
    "w.set_graph_layout(\"organic\")\n",
    "# Display the graph in a Jupyter notebook\n",
    "# If not in Jupyter, use w.save_to_html(\"graph.html\") to save the graph as an HTML file\n",
    "w.show()"
   ]
  },
  {
   "cell_type": "markdown",
   "metadata": {},
   "source": [
    "# Congratulations! \n",
    "We have successfully visualized a Kuzu Graph Database of employee information for the small company. <br>\n",
    "Graph Databases are powerful because they allow users to see connections that aren't obvious in a dataframe. "
   ]
  }
 ],
 "metadata": {
  "kernelspec": {
   "display_name": ".venv",
   "language": "python",
   "name": "python3"
  },
  "language_info": {
   "codemirror_mode": {
    "name": "ipython",
    "version": 3
   },
   "file_extension": ".py",
   "mimetype": "text/x-python",
   "name": "python",
   "nbconvert_exporter": "python",
   "pygments_lexer": "ipython3",
   "version": "3.13.0"
  }
 },
 "nbformat": 4,
 "nbformat_minor": 2
}
